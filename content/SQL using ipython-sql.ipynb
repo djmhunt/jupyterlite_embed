{
  "metadata": {
    "language_info": {
      "codemirror_mode": {
        "name": "python",
        "version": 3
      },
      "file_extension": ".py",
      "mimetype": "text/x-python",
      "name": "python",
      "nbconvert_exporter": "python",
      "pygments_lexer": "ipython3",
      "version": "3.8"
    },
    "kernelspec": {
      "name": "python",
      "display_name": "Python (Pyodide)",
      "language": "python"
    }
  },
  "nbformat_minor": 4,
  "nbformat": 4,
  "cells": [
    {
      "cell_type": "code",
      "source": "import piplite\nawait piplite.install(\"ipython-sql\")",
      "metadata": {
        "trusted": true
      },
      "execution_count": 1,
      "outputs": []
    },
    {
      "cell_type": "markdown",
      "source": "For more inforation see [this Medium post](https://towardsdatascience.com/heres-how-to-run-sql-in-jupyter-notebooks-f26eb90f3259)",
      "metadata": {}
    },
    {
      "cell_type": "code",
      "source": "%load_ext sql",
      "metadata": {
        "trusted": true
      },
      "execution_count": 2,
      "outputs": []
    },
    {
      "cell_type": "code",
      "source": "%sql sqlite:///data/pagilla.db",
      "metadata": {
        "trusted": true
      },
      "execution_count": 3,
      "outputs": []
    },
    {
      "cell_type": "code",
      "source": "%%sql\nSELECT * FROM film_actor LIMIT 10",
      "metadata": {
        "trusted": true
      },
      "execution_count": 4,
      "outputs": [
        {
          "name": "stdout",
          "text": " * sqlite:///pagilla.db\nDone.\n",
          "output_type": "stream"
        },
        {
          "execution_count": 4,
          "output_type": "execute_result",
          "data": {
            "text/plain": "[(1, 1, '2006-02-15 10:05:03'),\n (1, 23, '2006-02-15 10:05:03'),\n (1, 25, '2006-02-15 10:05:03'),\n (1, 106, '2006-02-15 10:05:03'),\n (1, 140, '2006-02-15 10:05:03'),\n (1, 166, '2006-02-15 10:05:03'),\n (1, 277, '2006-02-15 10:05:03'),\n (1, 361, '2006-02-15 10:05:03'),\n (1, 438, '2006-02-15 10:05:03'),\n (1, 499, '2006-02-15 10:05:03')]",
            "text/html": "<table>\n    <thead>\n        <tr>\n            <th>actor_id</th>\n            <th>film_id</th>\n            <th>last_update</th>\n        </tr>\n    </thead>\n    <tbody>\n        <tr>\n            <td>1</td>\n            <td>1</td>\n            <td>2006-02-15 10:05:03</td>\n        </tr>\n        <tr>\n            <td>1</td>\n            <td>23</td>\n            <td>2006-02-15 10:05:03</td>\n        </tr>\n        <tr>\n            <td>1</td>\n            <td>25</td>\n            <td>2006-02-15 10:05:03</td>\n        </tr>\n        <tr>\n            <td>1</td>\n            <td>106</td>\n            <td>2006-02-15 10:05:03</td>\n        </tr>\n        <tr>\n            <td>1</td>\n            <td>140</td>\n            <td>2006-02-15 10:05:03</td>\n        </tr>\n        <tr>\n            <td>1</td>\n            <td>166</td>\n            <td>2006-02-15 10:05:03</td>\n        </tr>\n        <tr>\n            <td>1</td>\n            <td>277</td>\n            <td>2006-02-15 10:05:03</td>\n        </tr>\n        <tr>\n            <td>1</td>\n            <td>361</td>\n            <td>2006-02-15 10:05:03</td>\n        </tr>\n        <tr>\n            <td>1</td>\n            <td>438</td>\n            <td>2006-02-15 10:05:03</td>\n        </tr>\n        <tr>\n            <td>1</td>\n            <td>499</td>\n            <td>2006-02-15 10:05:03</td>\n        </tr>\n    </tbody>\n</table>"
          },
          "metadata": {}
        }
      ]
    },
    {
      "cell_type": "code",
      "source": "",
      "metadata": {},
      "execution_count": null,
      "outputs": []
    }
  ]
}